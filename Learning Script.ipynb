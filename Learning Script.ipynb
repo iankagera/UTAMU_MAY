{
 "cells": [
  {
   "cell_type": "code",
   "execution_count": 68,
   "id": "d2194d95",
   "metadata": {},
   "outputs": [],
   "source": [
    "import math\n",
    "import scipy"
   ]
  },
  {
   "cell_type": "markdown",
   "id": "8aa77385",
   "metadata": {},
   "source": [
    "# Computing Using Scipy"
   ]
  },
  {
   "cell_type": "code",
   "execution_count": 69,
   "id": "77500d82",
   "metadata": {},
   "outputs": [
    {
     "name": "stdout",
     "output_type": "stream",
     "text": [
      "3.141592653589793\n"
     ]
    }
   ],
   "source": [
    "print(scipy.pi )"
   ]
  },
  {
   "cell_type": "code",
   "execution_count": 70,
   "id": "814f5d77",
   "metadata": {},
   "outputs": [
    {
     "name": "stdout",
     "output_type": "stream",
     "text": [
      "2.718281828459045\n"
     ]
    }
   ],
   "source": [
    "print(scipy.e)"
   ]
  },
  {
   "cell_type": "code",
   "execution_count": 71,
   "id": "b0a05f91",
   "metadata": {},
   "outputs": [
    {
     "name": "stdout",
     "output_type": "stream",
     "text": [
      "1.6197751905438615\n"
     ]
    },
    {
     "name": "stderr",
     "output_type": "stream",
     "text": [
      "C:\\Users\\RTV-LPT-00\\AppData\\Local\\Temp\\ipykernel_13432\\848139002.py:1: DeprecationWarning: scipy.tan is deprecated and will be removed in SciPy 2.0.0, use numpy.tan instead\n",
      "  print(scipy.tan(45))\n"
     ]
    }
   ],
   "source": [
    "print(scipy.tan(45))"
   ]
  },
  {
   "cell_type": "code",
   "execution_count": 72,
   "id": "cb13d907",
   "metadata": {},
   "outputs": [
    {
     "name": "stdout",
     "output_type": "stream",
     "text": [
      "1.0\n"
     ]
    },
    {
     "name": "stderr",
     "output_type": "stream",
     "text": [
      "C:\\Users\\RTV-LPT-00\\AppData\\Local\\Temp\\ipykernel_13432\\2510025576.py:1: DeprecationWarning: scipy.cos is deprecated and will be removed in SciPy 2.0.0, use numpy.cos instead\n",
      "  print(scipy.cos(0))\n"
     ]
    }
   ],
   "source": [
    "print(scipy.cos(0))"
   ]
  },
  {
   "cell_type": "markdown",
   "id": "7797b9ab",
   "metadata": {},
   "source": [
    "# Computing Using Math"
   ]
  },
  {
   "cell_type": "code",
   "execution_count": 73,
   "id": "28d33c7d",
   "metadata": {},
   "outputs": [
    {
     "name": "stdout",
     "output_type": "stream",
     "text": [
      "3.141592653589793\n"
     ]
    }
   ],
   "source": [
    "print( math.pi )\n"
   ]
  },
  {
   "cell_type": "code",
   "execution_count": 74,
   "id": "d09658e0",
   "metadata": {},
   "outputs": [
    {
     "name": "stdout",
     "output_type": "stream",
     "text": [
      "2.718281828459045\n"
     ]
    }
   ],
   "source": [
    "print(math.e)"
   ]
  },
  {
   "cell_type": "code",
   "execution_count": 75,
   "id": "3e3b029c",
   "metadata": {},
   "outputs": [
    {
     "name": "stdout",
     "output_type": "stream",
     "text": [
      "1.6197751905438615\n"
     ]
    }
   ],
   "source": [
    "print(math.tan(45))"
   ]
  },
  {
   "cell_type": "code",
   "execution_count": 76,
   "id": "984a6a37",
   "metadata": {},
   "outputs": [
    {
     "name": "stdout",
     "output_type": "stream",
     "text": [
      "1.0\n"
     ]
    }
   ],
   "source": [
    "print(math.cos(0))"
   ]
  }
 ],
 "metadata": {
  "kernelspec": {
   "display_name": "Python 3 (ipykernel)",
   "language": "python",
   "name": "python3"
  },
  "language_info": {
   "codemirror_mode": {
    "name": "ipython",
    "version": 3
   },
   "file_extension": ".py",
   "mimetype": "text/x-python",
   "name": "python",
   "nbconvert_exporter": "python",
   "pygments_lexer": "ipython3",
   "version": "3.9.12"
  }
 },
 "nbformat": 4,
 "nbformat_minor": 5
}
